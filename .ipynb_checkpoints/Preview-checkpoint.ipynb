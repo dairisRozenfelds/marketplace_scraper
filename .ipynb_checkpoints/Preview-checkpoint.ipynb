{
 "cells": [
  {
   "cell_type": "code",
   "execution_count": null,
   "metadata": {},
   "outputs": [],
   "source": [
    "## Datubāzes pieslēgšana skrāpētājam\n",
    "from scrapy.conf import settings\n",
    "\n",
    "settings['MONGODB_SERVER'] = \"localhost\"\n",
    "settings['MONGODB_PORT'] = 27017\n",
    "## Lai saglabātu rezultātus, ir nepieciešams izveidot datubāzi mongodb \"marketplace_scraper\"\n",
    "settings['MONGODB_DB'] = \"marketplace_scraper\""
   ]
  },
  {
   "cell_type": "code",
   "execution_count": null,
   "metadata": {},
   "outputs": [],
   "source": [
    "import scrapy\n",
    "from scrapy.crawler import CrawlerProcess\n",
    "from scrapy.utils.project import get_project_settings\n",
    "from marketplace_scraper.spiders.ss_cars_spider import SsSpider\n",
    "from marketplace_scraper.spiders.autoplius_cars_spider import AutopliusSpider\n",
    "\n",
    "process = CrawlerProcess(get_project_settings())\n",
    "\n",
    "# Definēsim, kādus URL gribam apstaigāt SS.COM\n",
    "SSurls = [\n",
    "    'https://www.ss.com/lv/transport/cars/bmw/',\n",
    "    'https://www.ss.com/lv/transport/cars/audi/'\n",
    "]\n",
    "## Šis ir nepieciešams, lai zinātu, kādas vecās kolekcijas ir jāizmet, lai netiktu sabojāta statistika\n",
    "# TODO: Pārveidot, lai katrai jaunai kolekcijai pieliktu timestamp un tādā veidā tās varētu atšķirt\n",
    "SSdropCollections = [\n",
    "    'bmw',\n",
    "    'audi'\n",
    "]\n",
    "\n",
    "# Definēsim, kādus URL gribam apstaigāt AUTOPLIUS.LT\n",
    "APurls = [\n",
    "    'https://en.autoplius.lt/ads/used-cars/bmw',\n",
    "    'https://en.autoplius.lt/ads/used-cars/audi'\n",
    "]\n",
    "APdropCollections = [\n",
    "    'bmw_autoplius',\n",
    "    'audi_autoplius'\n",
    "]\n",
    "\n",
    "SS = SsSpider(scrapy.Spider)\n",
    "AP = AutopliusSpider(scrapy.Spider)\n",
    "\n",
    "# Ievietojam augstāk definētos URL un kolekcijas\n",
    "SS.urls = SSurls\n",
    "SS.dropCollections = SSdropCollections\n",
    "\n",
    "AP.urls = APurls\n",
    "AP.dropCollections = APdropCollections"
   ]
  },
  {
   "cell_type": "code",
   "execution_count": null,
   "metadata": {},
   "outputs": [],
   "source": [
    "## Palaidīsim skrāpētājus\n",
    "## !!! UZMANĪBU !!! VAR AIZŅEMT ILGU LAIKU !!!\n",
    "\n",
    "process.crawl(SS)\n",
    "process.crawl(AP)\n",
    "process.start()\n",
    "\n",
    "## Ja nesanāk palaist, tad projektā var palaist failu tieši 'run.py' vai\n",
    "## projektā palaist komandas \"scrapy crawl ss_cars\" un \"scrapy crawl autoplius\""
   ]
  },
  {
   "cell_type": "code",
   "execution_count": null,
   "metadata": {},
   "outputs": [],
   "source": [
    "from marketplace_scraper.analyzing.analyze_cars import AnalyzeData\n",
    "from marketplace_scraper.analyzing.analyze_cars import ItemCollection\n",
    "from marketplace_scraper.analyzing.car_brands.car_brand import CarBrand\n",
    "\n",
    "Data = AnalyzeData()\n",
    "\n",
    "db = Data.db\n",
    "#Salīdzina vienādos modeļus starp portāliem\n",
    "collections1 = [\n",
    "    ItemCollection(CarBrand(db, 'bmw', [\n",
    "        '320'\n",
    "    ]), 'SS.COM'),\n",
    "    ItemCollection(CarBrand(db, 'bmw_autoplius', [\n",
    "        '320'\n",
    "    ]), 'Autoplius.lt')\n",
    "]\n",
    "Data.collections = collections1\n",
    "Data.analyzeData()\n"
   ]
  },
  {
   "cell_type": "code",
   "execution_count": null,
   "metadata": {},
   "outputs": [],
   "source": [
    "#Salīdzina dažādus modeļus vienā portālā\n",
    "collections2 = [\n",
    "    ItemCollection(CarBrand(db, 'bmw', [\n",
    "        '320'\n",
    "    ]), 'SS.COM'),\n",
    "    ItemCollection(CarBrand(db, 'bmw', [\n",
    "        '330'\n",
    "    ]), 'SS.COM')\n",
    "]\n",
    "Data.collections = collections2\n",
    "Data.analyzeData()\n"
   ]
  },
  {
   "cell_type": "code",
   "execution_count": null,
   "metadata": {},
   "outputs": [],
   "source": [
    "#Salīdzina vairāk kā 2 modeļus\n",
    "collections3 = [\n",
    "    ItemCollection(CarBrand(db, 'bmw', [\n",
    "        '320'\n",
    "    ]), 'SS.COM'),\n",
    "    ItemCollection(CarBrand(db, 'bmw', [\n",
    "        '318'\n",
    "    ]), 'SS.COM'),\n",
    "    ItemCollection(CarBrand(db, 'bmw', [\n",
    "        '325'\n",
    "    ]), 'SS.COM'),\n",
    "    ItemCollection(CarBrand(db, 'bmw', [\n",
    "        '330'\n",
    "    ]), 'SS.COM')\n",
    "]\n",
    "Data.collections = collections3\n",
    "Data.analyzeData()"
   ]
  }
 ],
 "metadata": {
  "kernelspec": {
   "display_name": "Python 3",
   "language": "python",
   "name": "python3"
  },
  "language_info": {
   "codemirror_mode": {
    "name": "ipython",
    "version": 3
   },
   "file_extension": ".py",
   "mimetype": "text/x-python",
   "name": "python",
   "nbconvert_exporter": "python",
   "pygments_lexer": "ipython3",
   "version": "3.7.1"
  }
 },
 "nbformat": 4,
 "nbformat_minor": 2
}
